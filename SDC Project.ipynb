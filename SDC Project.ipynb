{
 "cells": [
  {
   "cell_type": "code",
   "execution_count": 1,
   "metadata": {
    "collapsed": false
   },
   "outputs": [],
   "source": [
    "import cv2\n",
    "import glob\n",
    "import math\n",
    "\n",
    "import matplotlib.pyplot as plt\n",
    "import matplotlib.image as mpimg\n",
    "%matplotlib inline\n",
    "\n",
    "import numpy as np\n",
    "import pandas as pd\n",
    "import xgboost as xgb\n",
    "\n",
    "from skimage.feature import hog\n",
    "from sklearn.feature_selection import VarianceThreshold\n",
    "from sklearn.model_selection import train_test_split\n",
    "from sklearn.utils import shuffle\n",
    "from sklearn.preprocessing import StandardScaler\n",
    "from sklearn.metrics import confusion_matrix\n",
    "\n",
    "from moviepy.editor import VideoFileClip\n",
    "from IPython.display import HTML\n",
    "\n",
    "import sdc_project as SDC"
   ]
  },
  {
   "cell_type": "code",
   "execution_count": 2,
   "metadata": {
    "collapsed": true
   },
   "outputs": [],
   "source": [
    "clb = SDC.CameraCalibrator((1280, 720))\n",
    "clb.load_images('camera_cal/*.jpg')\n",
    "clb.match_points(9, 6)\n",
    "clb.calibrate()"
   ]
  },
  {
   "cell_type": "code",
   "execution_count": 3,
   "metadata": {
    "collapsed": true
   },
   "outputs": [],
   "source": [
    "nonvehicles = pd.DataFrame(glob.glob('data/non-vehicles/*/*.png'), columns=['filename'])\n",
    "nonvehicles = nonvehicles.sample(8000)\n",
    "nonvehicles['auto'] = 0 \n",
    "\n",
    "vehicles = pd.DataFrame(glob.glob('data/vehicles/*/*.png'), columns=['filename'])\n",
    "vehicles = vehicles.sample(8000)\n",
    "vehicles['auto'] = 1\n",
    "\n",
    "data = nonvehicles.append(vehicles)\n",
    "data = shuffle(data)"
   ]
  },
  {
   "cell_type": "code",
   "execution_count": 4,
   "metadata": {
    "collapsed": false
   },
   "outputs": [
    {
     "name": "stdout",
     "output_type": "stream",
     "text": [
      "16000\n",
      "16000\n"
     ]
    }
   ],
   "source": [
    "features = []\n",
    "labels   = []\n",
    " \n",
    "for i, row in data.iterrows():\n",
    "    image = mpimg.imread(row['filename'])\n",
    "    features.append(SDC.extract_features(image))\n",
    "    labels.append(row['auto'])\n",
    "\n",
    "print(len(features))\n",
    "print(len(labels))"
   ]
  },
  {
   "cell_type": "code",
   "execution_count": 5,
   "metadata": {
    "collapsed": false
   },
   "outputs": [],
   "source": [
    "features = np.array(features)\n",
    "\n",
    "selector = VarianceThreshold(0.0002)\n",
    "selector.fit(features)\n",
    "selected_features = selector.transform(features)"
   ]
  },
  {
   "cell_type": "code",
   "execution_count": 6,
   "metadata": {
    "collapsed": true
   },
   "outputs": [],
   "source": [
    "scaler = StandardScaler().fit(selected_features)\n",
    "scaled_features = scaler.transform(selected_features)"
   ]
  },
  {
   "cell_type": "code",
   "execution_count": 7,
   "metadata": {
    "collapsed": true
   },
   "outputs": [],
   "source": [
    "X_train, X_valid, y_train, y_valid = train_test_split(scaled_features, labels, test_size=0.33, random_state=42)"
   ]
  },
  {
   "cell_type": "code",
   "execution_count": 8,
   "metadata": {
    "collapsed": true
   },
   "outputs": [],
   "source": [
    "params = {\n",
    "    'bst:max_depth': 2, \n",
    "    'bst:eta'      : 1, \n",
    "    'silent'       : 1, \n",
    "    'objective'    : 'binary:logistic',\n",
    "    'nthread'      : 4,\n",
    "    'eval_metric'  : 'auc'\n",
    "}\n",
    "\n",
    "num_round = 80"
   ]
  },
  {
   "cell_type": "code",
   "execution_count": 9,
   "metadata": {
    "collapsed": false
   },
   "outputs": [],
   "source": [
    "dtrain = xgb.DMatrix(X_train, y_train)\n",
    "dvalid = xgb.DMatrix(X_valid, y_valid)\n",
    "\n",
    "evallist  = [(dvalid, 'eval'), (dtrain, 'train')]"
   ]
  },
  {
   "cell_type": "code",
   "execution_count": 10,
   "metadata": {
    "collapsed": false
   },
   "outputs": [
    {
     "name": "stdout",
     "output_type": "stream",
     "text": [
      "[0]\teval-auc:0.986783\ttrain-auc:0.991948\n",
      "[1]\teval-auc:0.99007\ttrain-auc:0.994293\n",
      "[2]\teval-auc:0.993874\ttrain-auc:0.997305\n",
      "[3]\teval-auc:0.994863\ttrain-auc:0.998203\n",
      "[4]\teval-auc:0.996303\ttrain-auc:0.998737\n",
      "[5]\teval-auc:0.997126\ttrain-auc:0.999358\n",
      "[6]\teval-auc:0.997394\ttrain-auc:0.999572\n",
      "[7]\teval-auc:0.998126\ttrain-auc:0.999829\n",
      "[8]\teval-auc:0.998346\ttrain-auc:0.999861\n",
      "[9]\teval-auc:0.998845\ttrain-auc:0.999954\n",
      "[10]\teval-auc:0.998919\ttrain-auc:0.999958\n",
      "[11]\teval-auc:0.999066\ttrain-auc:0.999976\n",
      "[12]\teval-auc:0.999269\ttrain-auc:0.999989\n",
      "[13]\teval-auc:0.999355\ttrain-auc:0.999994\n",
      "[14]\teval-auc:0.999562\ttrain-auc:0.999997\n",
      "[15]\teval-auc:0.999615\ttrain-auc:0.999999\n",
      "[16]\teval-auc:0.999651\ttrain-auc:0.999999\n",
      "[17]\teval-auc:0.99968\ttrain-auc:1\n",
      "[18]\teval-auc:0.999698\ttrain-auc:1\n",
      "[19]\teval-auc:0.999713\ttrain-auc:1\n",
      "[20]\teval-auc:0.999735\ttrain-auc:1\n",
      "[21]\teval-auc:0.999745\ttrain-auc:1\n",
      "[22]\teval-auc:0.99975\ttrain-auc:1\n",
      "[23]\teval-auc:0.999782\ttrain-auc:1\n",
      "[24]\teval-auc:0.999798\ttrain-auc:1\n",
      "[25]\teval-auc:0.999803\ttrain-auc:1\n",
      "[26]\teval-auc:0.99981\ttrain-auc:1\n",
      "[27]\teval-auc:0.999819\ttrain-auc:1\n",
      "[28]\teval-auc:0.999831\ttrain-auc:1\n",
      "[29]\teval-auc:0.999838\ttrain-auc:1\n",
      "[30]\teval-auc:0.999841\ttrain-auc:1\n",
      "[31]\teval-auc:0.999849\ttrain-auc:1\n",
      "[32]\teval-auc:0.999849\ttrain-auc:1\n",
      "[33]\teval-auc:0.999852\ttrain-auc:1\n",
      "[34]\teval-auc:0.999855\ttrain-auc:1\n",
      "[35]\teval-auc:0.999853\ttrain-auc:1\n",
      "[36]\teval-auc:0.999856\ttrain-auc:1\n",
      "[37]\teval-auc:0.999859\ttrain-auc:1\n",
      "[38]\teval-auc:0.999865\ttrain-auc:1\n",
      "[39]\teval-auc:0.999868\ttrain-auc:1\n",
      "[40]\teval-auc:0.99987\ttrain-auc:1\n",
      "[41]\teval-auc:0.999872\ttrain-auc:1\n",
      "[42]\teval-auc:0.999872\ttrain-auc:1\n",
      "[43]\teval-auc:0.999876\ttrain-auc:1\n",
      "[44]\teval-auc:0.999876\ttrain-auc:1\n",
      "[45]\teval-auc:0.999877\ttrain-auc:1\n",
      "[46]\teval-auc:0.999878\ttrain-auc:1\n",
      "[47]\teval-auc:0.999882\ttrain-auc:1\n",
      "[48]\teval-auc:0.999883\ttrain-auc:1\n",
      "[49]\teval-auc:0.999884\ttrain-auc:1\n",
      "[50]\teval-auc:0.999883\ttrain-auc:1\n",
      "[51]\teval-auc:0.999879\ttrain-auc:1\n",
      "[52]\teval-auc:0.999879\ttrain-auc:1\n",
      "[53]\teval-auc:0.99988\ttrain-auc:1\n",
      "[54]\teval-auc:0.999881\ttrain-auc:1\n",
      "[55]\teval-auc:0.99988\ttrain-auc:1\n",
      "[56]\teval-auc:0.999881\ttrain-auc:1\n",
      "[57]\teval-auc:0.999882\ttrain-auc:1\n",
      "[58]\teval-auc:0.999883\ttrain-auc:1\n",
      "[59]\teval-auc:0.999881\ttrain-auc:1\n",
      "[60]\teval-auc:0.999881\ttrain-auc:1\n",
      "[61]\teval-auc:0.999881\ttrain-auc:1\n",
      "[62]\teval-auc:0.999881\ttrain-auc:1\n",
      "[63]\teval-auc:0.99988\ttrain-auc:1\n",
      "[64]\teval-auc:0.999879\ttrain-auc:1\n",
      "[65]\teval-auc:0.999881\ttrain-auc:1\n",
      "[66]\teval-auc:0.99988\ttrain-auc:1\n",
      "[67]\teval-auc:0.999881\ttrain-auc:1\n",
      "[68]\teval-auc:0.999884\ttrain-auc:1\n",
      "[69]\teval-auc:0.999884\ttrain-auc:1\n",
      "[70]\teval-auc:0.999885\ttrain-auc:1\n",
      "[71]\teval-auc:0.999889\ttrain-auc:1\n",
      "[72]\teval-auc:0.999889\ttrain-auc:1\n",
      "[73]\teval-auc:0.999888\ttrain-auc:1\n",
      "[74]\teval-auc:0.999885\ttrain-auc:1\n",
      "[75]\teval-auc:0.999887\ttrain-auc:1\n",
      "[76]\teval-auc:0.999887\ttrain-auc:1\n",
      "[77]\teval-auc:0.999886\ttrain-auc:1\n",
      "[78]\teval-auc:0.999888\ttrain-auc:1\n",
      "[79]\teval-auc:0.999885\ttrain-auc:1\n"
     ]
    }
   ],
   "source": [
    "bst = xgb.train(params, dtrain, num_round, evallist)"
   ]
  },
  {
   "cell_type": "code",
   "execution_count": 22,
   "metadata": {
    "collapsed": false
   },
   "outputs": [
    {
     "data": {
      "text/plain": [
       "<module 'sdc_project' from '/Users/Bombard/udacity/CarND-Vehicle-Detection/sdc_project.py'>"
      ]
     },
     "execution_count": 22,
     "metadata": {},
     "output_type": "execute_result"
    }
   ],
   "source": [
    "from imp import reload\n",
    "reload(SDC)"
   ]
  },
  {
   "cell_type": "code",
   "execution_count": 23,
   "metadata": {
    "collapsed": true
   },
   "outputs": [],
   "source": [
    "vd = SDC.VehicleDetector((720, 1280), selector, scaler, bst)"
   ]
  },
  {
   "cell_type": "code",
   "execution_count": 24,
   "metadata": {
    "collapsed": false
   },
   "outputs": [
    {
     "name": "stdout",
     "output_type": "stream",
     "text": [
      "[MoviePy] >>>> Building video output_video/project_video.mp4\n",
      "[MoviePy] Writing video output_video/project_video.mp4\n"
     ]
    },
    {
     "name": "stderr",
     "output_type": "stream",
     "text": [
      "100%|█████████▉| 1260/1261 [24:22<00:01,  1.10s/it]\n"
     ]
    },
    {
     "name": "stdout",
     "output_type": "stream",
     "text": [
      "[MoviePy] Done.\n",
      "[MoviePy] >>>> Video ready: output_video/project_video.mp4 \n",
      "\n"
     ]
    }
   ],
   "source": [
    "lf = SDC.LaneFinder((1280, 720), clb, vd)\n",
    "clip   = VideoFileClip('project_video.mp4')\n",
    "output = clip.fl_image(lf.process_image)\n",
    "output.write_videofile('output_video/project_video.mp4', audio=False)"
   ]
  },
  {
   "cell_type": "code",
   "execution_count": null,
   "metadata": {
    "collapsed": true
   },
   "outputs": [],
   "source": []
  }
 ],
 "metadata": {
  "anaconda-cloud": {},
  "kernelspec": {
   "display_name": "Python [keras]",
   "language": "python",
   "name": "Python [keras]"
  },
  "language_info": {
   "codemirror_mode": {
    "name": "ipython",
    "version": 3
   },
   "file_extension": ".py",
   "mimetype": "text/x-python",
   "name": "python",
   "nbconvert_exporter": "python",
   "pygments_lexer": "ipython3",
   "version": "3.5.2"
  }
 },
 "nbformat": 4,
 "nbformat_minor": 0
}
